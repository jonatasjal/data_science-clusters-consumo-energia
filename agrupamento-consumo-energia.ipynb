{
  "cells": [
    {
      "attachments": {},
      "cell_type": "markdown",
      "metadata": {},
      "source": [
        "# AGRUPAMENTOS DE CONSUMO DE ENERGIA DE CLIENTES"
      ]
    },
    {
      "attachments": {},
      "cell_type": "markdown",
      "metadata": {},
      "source": [
        "## Objetivos"
      ]
    },
    {
      "attachments": {},
      "cell_type": "markdown",
      "metadata": {
        "id": "XRJb4sERw6-X"
      },
      "source": [
        "O objetivo desse projeto é, através de dados sobre consumo de energia de alguns clientes e agrupá-los por características similares, para podermos entender seus comportamentos, através de uma base de dados obtida no **UCI Machine Learninrg Repository**, com dados coletados por um período de aproximadamente 4 anos, demonstrados no **dicionário de dados**."
      ]
    },
    {
      "attachments": {},
      "cell_type": "markdown",
      "metadata": {},
      "source": [
        "## Técnicas utilizadas"
      ]
    },
    {
      "attachments": {},
      "cell_type": "markdown",
      "metadata": {},
      "source": [
        "Além das análises gráficas, colocaremos em prática:\n",
        "- Aprendizagem não supervisionada\n",
        "- Análise Exploratória de Dados\n",
        "- Tratamento dos dados \n",
        "- PCA\n",
        "- Curva de Elbow\n",
        "- Distância Eudliciana\n",
        "- Cluterização\n",
        "- Máquinas Preditivas\n",
        "- Coeficiente de Silhueta"
      ]
    },
    {
      "attachments": {},
      "cell_type": "markdown",
      "metadata": {},
      "source": [
        "## Pode-se usar também para:"
      ]
    },
    {
      "attachments": {},
      "cell_type": "markdown",
      "metadata": {},
      "source": [
        "- Definir nível de consumo\n",
        "- Descobrir as causas de um consumo acentuado\n",
        "- Se tais consumidores possuem aparelhos mais antigos\n",
        "- Se possuem muitos dispositivos elétricos (itens de luxo)\n",
        "- Implementar taxas adaptativas (renda, por exemplo)\n",
        "- Entender e estimular consumo de energia em grupos\n",
        "- Verificar possíveis erros na distribuição ou transmissão de energia"
      ]
    },
    {
      "attachments": {},
      "cell_type": "markdown",
      "metadata": {},
      "source": [
        "## Dicionário de Dados"
      ]
    },
    {
      "attachments": {},
      "cell_type": "markdown",
      "metadata": {},
      "source": [
        "1. **data**: Data no formato dd / mm / aaaa\n",
        "2. **hora**: hora no formato hh: mm: ss\n",
        "3. **global_active_power**: potência ativa média global por minuto (em quilowatt)\n",
        "4. **potência reativa global da família**: potência reativa média global por minuto (em quilowatt)\n",
        "5. **voltagem**: tensão média por minuto (em volt)\n",
        "6. **intensidade global**: intensidade de corrente média por minuto global doméstica (em ampere)\n",
        "7. **sub_metering_1**: submedição de energia nº 1 (em watt-hora de energia ativa ) Corresponde à **cozinha**, que contém essencialmente uma máquina de lavar louça, um forno e um micro-ondas (a placa eléctrica não é eléctrica mas sim a gás).\n",
        "8. **sub_metering_2**: sub-medição de energia nº 2 (em watt-hora de energia ativa). Corresponde à **lavanderia**, contendo uma máquina de lavar, uma secadora, uma geladeira e uma luz.\n",
        "9. **sub_metering_3**: submedição de energia nº 3 (em watt-hora de energia ativa). Corresponde a um **aquecedor elétrico de água e um ar condicionado**."
      ]
    },
    {
      "attachments": {},
      "cell_type": "markdown",
      "metadata": {},
      "source": [
        "##### Fonte de Dados"
      ]
    },
    {
      "attachments": {},
      "cell_type": "markdown",
      "metadata": {},
      "source": [
        "https://archive.ics.uci.edu/ml/datasets/Individual+household+electric+power+consumption"
      ]
    },
    {
      "attachments": {},
      "cell_type": "markdown",
      "metadata": {
        "id": "IAcjJSjvw_nO"
      },
      "source": [
        "## 1 Base de dados e Bibliotecas"
      ]
    },
    {
      "cell_type": "code",
      "execution_count": 1,
      "metadata": {
        "id": "VBrCFtLtxdoj"
      },
      "outputs": [],
      "source": [
        "# Bibliotecas\n",
        "import pandas as pd\n",
        "import numpy as np\n",
        "import matplotlib.pyplot as plt\n",
        "from matplotlib import pylab\n",
        "from sklearn.cluster import KMeans\n",
        "from sklearn.decomposition import PCA\n",
        "from sklearn.model_selection import train_test_split\n",
        "from scipy.spatial.distance import cdist, pdist\n",
        "from sklearn.metrics import silhouette_score\n",
        "import warnings\n",
        "warnings.filterwarnings(\"ignore\")\n",
        "%matplotlib inline"
      ]
    },
    {
      "cell_type": "code",
      "execution_count": 2,
      "metadata": {
        "id": "7bFqaSsCyHe0"
      },
      "outputs": [],
      "source": [
        "# Base de dados\n",
        "dataset = pd.read_csv('household_power_consumption.txt', delimiter = ';', low_memory = False)"
      ]
    },
    {
      "attachments": {},
      "cell_type": "markdown",
      "metadata": {},
      "source": [
        "## 2 Análise Exploratória dos Dados"
      ]
    },
    {
      "cell_type": "code",
      "execution_count": 3,
      "metadata": {
        "colab": {
          "base_uri": "https://localhost:8080/",
          "height": 216
        },
        "id": "x9q_A1UgyOHq",
        "outputId": "affb0524-afa8-47cd-c013-42d694d4f495"
      },
      "outputs": [
        {
          "data": {
            "text/html": [
              "<div>\n",
              "<style scoped>\n",
              "    .dataframe tbody tr th:only-of-type {\n",
              "        vertical-align: middle;\n",
              "    }\n",
              "\n",
              "    .dataframe tbody tr th {\n",
              "        vertical-align: top;\n",
              "    }\n",
              "\n",
              "    .dataframe thead th {\n",
              "        text-align: right;\n",
              "    }\n",
              "</style>\n",
              "<table border=\"1\" class=\"dataframe\">\n",
              "  <thead>\n",
              "    <tr style=\"text-align: right;\">\n",
              "      <th></th>\n",
              "      <th>Date</th>\n",
              "      <th>Time</th>\n",
              "      <th>Global_active_power</th>\n",
              "      <th>Global_reactive_power</th>\n",
              "      <th>Voltage</th>\n",
              "      <th>Global_intensity</th>\n",
              "      <th>Sub_metering_1</th>\n",
              "      <th>Sub_metering_2</th>\n",
              "      <th>Sub_metering_3</th>\n",
              "    </tr>\n",
              "  </thead>\n",
              "  <tbody>\n",
              "    <tr>\n",
              "      <th>0</th>\n",
              "      <td>16/12/2006</td>\n",
              "      <td>17:24:00</td>\n",
              "      <td>4.216</td>\n",
              "      <td>0.418</td>\n",
              "      <td>234.840</td>\n",
              "      <td>18.400</td>\n",
              "      <td>0.000</td>\n",
              "      <td>1.000</td>\n",
              "      <td>17.0</td>\n",
              "    </tr>\n",
              "    <tr>\n",
              "      <th>1</th>\n",
              "      <td>16/12/2006</td>\n",
              "      <td>17:25:00</td>\n",
              "      <td>5.360</td>\n",
              "      <td>0.436</td>\n",
              "      <td>233.630</td>\n",
              "      <td>23.000</td>\n",
              "      <td>0.000</td>\n",
              "      <td>1.000</td>\n",
              "      <td>16.0</td>\n",
              "    </tr>\n",
              "    <tr>\n",
              "      <th>2</th>\n",
              "      <td>16/12/2006</td>\n",
              "      <td>17:26:00</td>\n",
              "      <td>5.374</td>\n",
              "      <td>0.498</td>\n",
              "      <td>233.290</td>\n",
              "      <td>23.000</td>\n",
              "      <td>0.000</td>\n",
              "      <td>2.000</td>\n",
              "      <td>17.0</td>\n",
              "    </tr>\n",
              "    <tr>\n",
              "      <th>3</th>\n",
              "      <td>16/12/2006</td>\n",
              "      <td>17:27:00</td>\n",
              "      <td>5.388</td>\n",
              "      <td>0.502</td>\n",
              "      <td>233.740</td>\n",
              "      <td>23.000</td>\n",
              "      <td>0.000</td>\n",
              "      <td>1.000</td>\n",
              "      <td>17.0</td>\n",
              "    </tr>\n",
              "    <tr>\n",
              "      <th>4</th>\n",
              "      <td>16/12/2006</td>\n",
              "      <td>17:28:00</td>\n",
              "      <td>3.666</td>\n",
              "      <td>0.528</td>\n",
              "      <td>235.680</td>\n",
              "      <td>15.800</td>\n",
              "      <td>0.000</td>\n",
              "      <td>1.000</td>\n",
              "      <td>17.0</td>\n",
              "    </tr>\n",
              "  </tbody>\n",
              "</table>\n",
              "</div>"
            ],
            "text/plain": [
              "         Date      Time Global_active_power Global_reactive_power  Voltage  \\\n",
              "0  16/12/2006  17:24:00               4.216                 0.418  234.840   \n",
              "1  16/12/2006  17:25:00               5.360                 0.436  233.630   \n",
              "2  16/12/2006  17:26:00               5.374                 0.498  233.290   \n",
              "3  16/12/2006  17:27:00               5.388                 0.502  233.740   \n",
              "4  16/12/2006  17:28:00               3.666                 0.528  235.680   \n",
              "\n",
              "  Global_intensity Sub_metering_1 Sub_metering_2  Sub_metering_3  \n",
              "0           18.400          0.000          1.000            17.0  \n",
              "1           23.000          0.000          1.000            16.0  \n",
              "2           23.000          0.000          2.000            17.0  \n",
              "3           23.000          0.000          1.000            17.0  \n",
              "4           15.800          0.000          1.000            17.0  "
            ]
          },
          "execution_count": 3,
          "metadata": {},
          "output_type": "execute_result"
        }
      ],
      "source": [
        "dataset.head()"
      ]
    },
    {
      "cell_type": "code",
      "execution_count": 4,
      "metadata": {
        "colab": {
          "base_uri": "https://localhost:8080/"
        },
        "id": "w2EAdC51yRn3",
        "outputId": "806ae538-e005-4065-d1af-1d0d316ff5f2"
      },
      "outputs": [
        {
          "data": {
            "text/plain": [
              "(2075259, 9)"
            ]
          },
          "execution_count": 4,
          "metadata": {},
          "output_type": "execute_result"
        }
      ],
      "source": [
        "# Dimensões\n",
        "dataset.shape"
      ]
    },
    {
      "cell_type": "code",
      "execution_count": 5,
      "metadata": {
        "colab": {
          "base_uri": "https://localhost:8080/"
        },
        "id": "8XNdQi_TyTNw",
        "outputId": "d5fde065-324b-4015-ea15-8293ded4478b"
      },
      "outputs": [
        {
          "data": {
            "text/plain": [
              "Date                      object\n",
              "Time                      object\n",
              "Global_active_power       object\n",
              "Global_reactive_power     object\n",
              "Voltage                   object\n",
              "Global_intensity          object\n",
              "Sub_metering_1            object\n",
              "Sub_metering_2            object\n",
              "Sub_metering_3           float64\n",
              "dtype: object"
            ]
          },
          "execution_count": 5,
          "metadata": {},
          "output_type": "execute_result"
        }
      ],
      "source": [
        "# Tipos dos dados\n",
        "dataset.dtypes"
      ]
    },
    {
      "attachments": {},
      "cell_type": "markdown",
      "metadata": {},
      "source": [
        "> Os tipos das variáveis necessitam modificações\n",
        "- Data > verificar se será necessário conversão para Datetime, bem como 'Time'\n",
        "- O restante das variáveis estão como **object**, exceto a última que está como float\n",
        "- Será necessária uma normalização"
      ]
    },
    {
      "cell_type": "code",
      "execution_count": 6,
      "metadata": {
        "colab": {
          "base_uri": "https://localhost:8080/"
        },
        "id": "J1KfeZJ8yW8V",
        "outputId": "2765217f-83d1-4583-c409-b831dbb109e7"
      },
      "outputs": [
        {
          "data": {
            "text/plain": [
              "True"
            ]
          },
          "execution_count": 6,
          "metadata": {},
          "output_type": "execute_result"
        }
      ],
      "source": [
        "# Procurando valores missing\n",
        "dataset.isnull().values.any()"
      ]
    },
    {
      "cell_type": "code",
      "execution_count": 7,
      "metadata": {
        "colab": {
          "base_uri": "https://localhost:8080/"
        },
        "id": "utb0OBk94-FL",
        "outputId": "7f31a181-9969-4a9b-8325-073bf7e9571b"
      },
      "outputs": [
        {
          "data": {
            "text/plain": [
              "Date                         0\n",
              "Time                         0\n",
              "Global_active_power          0\n",
              "Global_reactive_power        0\n",
              "Voltage                      0\n",
              "Global_intensity             0\n",
              "Sub_metering_1               0\n",
              "Sub_metering_2               0\n",
              "Sub_metering_3           25979\n",
              "dtype: int64"
            ]
          },
          "execution_count": 7,
          "metadata": {},
          "output_type": "execute_result"
        }
      ],
      "source": [
        "# Procurando em quais colunas estão\n",
        "dataset.isnull().sum()"
      ]
    },
    {
      "attachments": {},
      "cell_type": "markdown",
      "metadata": {},
      "source": [
        "Percentual de valores missing"
      ]
    },
    {
      "cell_type": "code",
      "execution_count": 8,
      "metadata": {},
      "outputs": [],
      "source": [
        "sum_null = dataset['Sub_metering_3'].isnull().sum()"
      ]
    },
    {
      "cell_type": "code",
      "execution_count": 9,
      "metadata": {},
      "outputs": [],
      "source": [
        "perc_null = round(sum_null/len(dataset), 2)"
      ]
    },
    {
      "cell_type": "code",
      "execution_count": 10,
      "metadata": {},
      "outputs": [
        {
          "name": "stdout",
          "output_type": "stream",
          "text": [
            "Percentual de valores nulos: 0.01%\n"
          ]
        }
      ],
      "source": [
        "print(f'Percentual de valores nulos: {perc_null}%')"
      ]
    },
    {
      "attachments": {},
      "cell_type": "markdown",
      "metadata": {
        "id": "BIz-8b_wxFB-"
      },
      "source": [
        "## 3 Pré-Processamento dos Dados"
      ]
    },
    {
      "attachments": {},
      "cell_type": "markdown",
      "metadata": {},
      "source": [
        "> Decidimos:\n",
        "- como o número de dados missing é ínfimo (0.01%), faremos o drop destes\n",
        "- as 2 primeiras variáveis (Date e Time) não são relevantes para o nosso objetivo, portanto faremos a exclusão das colunas e com uma linha só de comando, eliminaremos os NaN"
      ]
    },
    {
      "cell_type": "code",
      "execution_count": 11,
      "metadata": {},
      "outputs": [],
      "source": [
        "dataset = dataset.iloc[0:, 2:9].dropna()"
      ]
    },
    {
      "cell_type": "code",
      "execution_count": 12,
      "metadata": {
        "colab": {
          "base_uri": "https://localhost:8080/",
          "height": 196
        },
        "id": "88kcVIoyVpKU",
        "outputId": "cc264c63-5524-48fb-d498-48d79f267e0a"
      },
      "outputs": [
        {
          "data": {
            "text/html": [
              "<div>\n",
              "<style scoped>\n",
              "    .dataframe tbody tr th:only-of-type {\n",
              "        vertical-align: middle;\n",
              "    }\n",
              "\n",
              "    .dataframe tbody tr th {\n",
              "        vertical-align: top;\n",
              "    }\n",
              "\n",
              "    .dataframe thead th {\n",
              "        text-align: right;\n",
              "    }\n",
              "</style>\n",
              "<table border=\"1\" class=\"dataframe\">\n",
              "  <thead>\n",
              "    <tr style=\"text-align: right;\">\n",
              "      <th></th>\n",
              "      <th>Global_active_power</th>\n",
              "      <th>Global_reactive_power</th>\n",
              "      <th>Voltage</th>\n",
              "      <th>Global_intensity</th>\n",
              "      <th>Sub_metering_1</th>\n",
              "      <th>Sub_metering_2</th>\n",
              "      <th>Sub_metering_3</th>\n",
              "    </tr>\n",
              "  </thead>\n",
              "  <tbody>\n",
              "    <tr>\n",
              "      <th>0</th>\n",
              "      <td>4.216</td>\n",
              "      <td>0.418</td>\n",
              "      <td>234.840</td>\n",
              "      <td>18.400</td>\n",
              "      <td>0.000</td>\n",
              "      <td>1.000</td>\n",
              "      <td>17.0</td>\n",
              "    </tr>\n",
              "    <tr>\n",
              "      <th>1</th>\n",
              "      <td>5.360</td>\n",
              "      <td>0.436</td>\n",
              "      <td>233.630</td>\n",
              "      <td>23.000</td>\n",
              "      <td>0.000</td>\n",
              "      <td>1.000</td>\n",
              "      <td>16.0</td>\n",
              "    </tr>\n",
              "    <tr>\n",
              "      <th>2</th>\n",
              "      <td>5.374</td>\n",
              "      <td>0.498</td>\n",
              "      <td>233.290</td>\n",
              "      <td>23.000</td>\n",
              "      <td>0.000</td>\n",
              "      <td>2.000</td>\n",
              "      <td>17.0</td>\n",
              "    </tr>\n",
              "    <tr>\n",
              "      <th>3</th>\n",
              "      <td>5.388</td>\n",
              "      <td>0.502</td>\n",
              "      <td>233.740</td>\n",
              "      <td>23.000</td>\n",
              "      <td>0.000</td>\n",
              "      <td>1.000</td>\n",
              "      <td>17.0</td>\n",
              "    </tr>\n",
              "    <tr>\n",
              "      <th>4</th>\n",
              "      <td>3.666</td>\n",
              "      <td>0.528</td>\n",
              "      <td>235.680</td>\n",
              "      <td>15.800</td>\n",
              "      <td>0.000</td>\n",
              "      <td>1.000</td>\n",
              "      <td>17.0</td>\n",
              "    </tr>\n",
              "  </tbody>\n",
              "</table>\n",
              "</div>"
            ],
            "text/plain": [
              "  Global_active_power Global_reactive_power  Voltage Global_intensity  \\\n",
              "0               4.216                 0.418  234.840           18.400   \n",
              "1               5.360                 0.436  233.630           23.000   \n",
              "2               5.374                 0.498  233.290           23.000   \n",
              "3               5.388                 0.502  233.740           23.000   \n",
              "4               3.666                 0.528  235.680           15.800   \n",
              "\n",
              "  Sub_metering_1 Sub_metering_2  Sub_metering_3  \n",
              "0          0.000          1.000            17.0  \n",
              "1          0.000          1.000            16.0  \n",
              "2          0.000          2.000            17.0  \n",
              "3          0.000          1.000            17.0  \n",
              "4          0.000          1.000            17.0  "
            ]
          },
          "execution_count": 12,
          "metadata": {},
          "output_type": "execute_result"
        }
      ],
      "source": [
        "# Resultado de exclusão das colunas\n",
        "dataset.head()"
      ]
    },
    {
      "cell_type": "code",
      "execution_count": 13,
      "metadata": {
        "colab": {
          "base_uri": "https://localhost:8080/"
        },
        "id": "86eah21pVpKU",
        "outputId": "d6d70dcd-c9a1-4ce4-97d8-ec389389e314"
      },
      "outputs": [
        {
          "data": {
            "text/plain": [
              "False"
            ]
          },
          "execution_count": 13,
          "metadata": {},
          "output_type": "execute_result"
        }
      ],
      "source": [
        "# Resultado da exclusão de NaN\n",
        "dataset.isnull().values.any()"
      ]
    },
    {
      "cell_type": "code",
      "execution_count": 14,
      "metadata": {
        "colab": {
          "base_uri": "https://localhost:8080/"
        },
        "id": "BQvX2AMOVSz7",
        "outputId": "9877994b-d6c3-4474-9731-49626faa321f"
      },
      "outputs": [
        {
          "data": {
            "text/plain": [
              "Global_active_power      0\n",
              "Global_reactive_power    0\n",
              "Voltage                  0\n",
              "Global_intensity         0\n",
              "Sub_metering_1           0\n",
              "Sub_metering_2           0\n",
              "Sub_metering_3           0\n",
              "dtype: int64"
            ]
          },
          "execution_count": 14,
          "metadata": {},
          "output_type": "execute_result"
        }
      ],
      "source": [
        "# Verificando nulos\n",
        "dataset.isnull().sum()"
      ]
    },
    {
      "attachments": {},
      "cell_type": "markdown",
      "metadata": {},
      "source": [
        "> ATENÇÃO: \n",
        "- Como estamos trabalhando com aprendizagem não supervisionada, o nosso 'Y' não existe e o 'X' (variáveis de entrada), são as variáveis existentes no dataset\n",
        "- O cluster (agrupamento) será o nosso \"Y\"\n",
        "- Usamos os argumento 'values' em dataset.values por ele já nos retornar um array com os valores"
      ]
    },
    {
      "cell_type": "code",
      "execution_count": 15,
      "metadata": {},
      "outputs": [],
      "source": [
        "# Criando uma variável com os valores em formato formato de array (values)\n",
        "dataset_atrib = dataset.values"
      ]
    },
    {
      "cell_type": "code",
      "execution_count": 16,
      "metadata": {},
      "outputs": [
        {
          "data": {
            "text/plain": [
              "array([['4.216', '0.418', '234.840', ..., '0.000', '1.000', 17.0],\n",
              "       ['5.360', '0.436', '233.630', ..., '0.000', '1.000', 16.0],\n",
              "       ['5.374', '0.498', '233.290', ..., '0.000', '2.000', 17.0],\n",
              "       ...,\n",
              "       ['0.938', '0.000', '239.820', ..., '0.000', '0.000', 0.0],\n",
              "       ['0.934', '0.000', '239.700', ..., '0.000', '0.000', 0.0],\n",
              "       ['0.932', '0.000', '239.550', ..., '0.000', '0.000', 0.0]],\n",
              "      dtype=object)"
            ]
          },
          "execution_count": 16,
          "metadata": {},
          "output_type": "execute_result"
        }
      ],
      "source": [
        "# Visualizando as variáveis de entradas \n",
        "dataset_atrib"
      ]
    },
    {
      "attachments": {},
      "cell_type": "markdown",
      "metadata": {},
      "source": [
        "> Como a massa de dados é gigantesca e poderá causar problemas de desempenho, utilizaremos uma amostra (1%) pequena para treinar nossa máquina"
      ]
    },
    {
      "cell_type": "code",
      "execution_count": 17,
      "metadata": {},
      "outputs": [],
      "source": [
        "# Amostra de 1%\n",
        "# Dataset contém a amostra e Amostra contém o restante\n",
        "dataset, amostra2 = train_test_split(dataset_atrib, train_size = .01)"
      ]
    },
    {
      "cell_type": "code",
      "execution_count": 18,
      "metadata": {},
      "outputs": [
        {
          "data": {
            "text/plain": [
              "(2028788, 7)"
            ]
          },
          "execution_count": 18,
          "metadata": {},
          "output_type": "execute_result"
        }
      ],
      "source": [
        "amostra2.shape"
      ]
    },
    {
      "cell_type": "code",
      "execution_count": 19,
      "metadata": {},
      "outputs": [
        {
          "data": {
            "text/plain": [
              "(20492, 7)"
            ]
          },
          "execution_count": 19,
          "metadata": {},
          "output_type": "execute_result"
        }
      ],
      "source": [
        "dataset.shape"
      ]
    },
    {
      "attachments": {},
      "cell_type": "markdown",
      "metadata": {},
      "source": [
        "## 4 Máquina Preditiva Segmentação de Clientes"
      ]
    },
    {
      "attachments": {},
      "cell_type": "markdown",
      "metadata": {},
      "source": [
        "> INSIGHT:\n",
        "- Usaremos o **PCA (Principal Component Analysis)** que é uma técnica de aprendizagem não supervisionada para reduzir a dimensão da massa de dados.\n",
        "- **Lógica:** Transformamos as 7 variáveis em 2 variáveis (ou 2 componentes principais), ou seja, **juntamos** as variáveis de acordo com as semelhança(obtida pela Variância) entre eles"
      ]
    },
    {
      "cell_type": "code",
      "execution_count": 20,
      "metadata": {
        "id": "MiDWJNtXVpKV"
      },
      "outputs": [],
      "source": [
        "# Reduzindo a dimensionalidade de 7 para 2 (n_components)\n",
        "pca = PCA(n_components = 2).fit_transform(dataset)"
      ]
    },
    {
      "attachments": {},
      "cell_type": "markdown",
      "metadata": {
        "id": "zwdqamW3FgLE"
      },
      "source": [
        "> Usando o algoritmo **Kmeans** para criar os grupos (segmentos) dos clientes levando-se em conta os seguintes critérios:"
      ]
    },
    {
      "attachments": {},
      "cell_type": "markdown",
      "metadata": {},
      "source": [
        "Funionamento: agrupá-los em diferentes grupos com base em suas características semelhantes.\n",
        "\n",
        "1. Inicialização: São escolhidos K pontos iniciais como centróides, que podem ser escolhidos aleatoriamente ou com algum critério específico\n",
        "\n",
        "2. Atribuição: Cada ponto de dados é atribuído ao centróide mais próximo com base na **distância Euclidiana**, criando K grupos iniciais\n",
        "\n",
        "3. Atualização: Os centróides são recalculados como a média dos pontos de dados atribuídos a eles, o que atualiza a posição dos centróides\n",
        "\n",
        "4. Repetição: Os passos 2 e 3 são repetidos até que ocorra uma convergência, ou seja, até que **não haja mais alterações significativas** nos centróides ou que o número máximo de iterações seja atingido\n",
        "\n",
        "5. Resultado: No final, obtemos K clusters, onde cada ponto de dados pertence a um cluster específico com base na atribuição aos centróides"
      ]
    },
    {
      "attachments": {},
      "cell_type": "markdown",
      "metadata": {},
      "source": [
        "> Usaremos uma técnica para testarmos o 'K' de 1 até 12 (nada mais nada menos, são 12 máquinas preditivas criadas)"
      ]
    },
    {
      "cell_type": "code",
      "execution_count": 21,
      "metadata": {
        "colab": {
          "base_uri": "https://localhost:8080/"
        },
        "id": "_eFQ1Ru1VpKV",
        "outputId": "913ccb6b-dcc2-4517-a930-e7e097be6d5e"
      },
      "outputs": [
        {
          "data": {
            "text/plain": [
              "range(1, 12)"
            ]
          },
          "execution_count": 21,
          "metadata": {},
          "output_type": "execute_result"
        }
      ],
      "source": [
        "# Determinando um range do Hyperparâmetro \"K\" do Kmeans\n",
        "k_range = range(1,12)\n",
        "k_range"
      ]
    },
    {
      "cell_type": "code",
      "execution_count": 22,
      "metadata": {
        "id": "nmd_9uWsVpKV"
      },
      "outputs": [],
      "source": [
        "# Aplicando o modelo K-Means para cada valor de K (k_range)\n",
        "k_means_var = [KMeans(n_clusters = k).fit(pca) for k in k_range]\n",
        "# Lógica: Criamos o KMeans e passamos como parâmetro o número de clusters (k, que é quantidade de clusters que queremos criar, 12) fazemos o fit de cada k"
      ]
    },
    {
      "attachments": {},
      "cell_type": "markdown",
      "metadata": {
        "id": "Q7wTLaAUCxyt"
      },
      "source": [
        "> Seguimos os seguintes preceitos:\n",
        "\n",
        "1. O agrupamento guiado pelo princípio de que os itens dentro de um cluster devem ser **muito** similares entre si, mas **muito** diferentes entre clusters\n",
        "2. Segmentação de clientes em grupos com demografia semelhante ou padrões de compra para campanhas de marketing direcionadas\n",
        "3. Simplificação de grandes conjuntos de dados agrupando características com valores semelhantes em um número menor de categorias homogêneas\n",
        "* Se você começar com dados sem rótulo ou seja sem variável target, você pode usar o clustering para criar rótulos de classe. A partir daí, você pode aplicar um algoritmo supervisionado, como árvores de decisão para encontrar os preditores mais importantes dessas classes!\n",
        "\n",
        "* A qualidade do agrupamento depende do algoritmo escolhido, da função de distância e da aplicação. Diz-se que a qualidade de um modelo de cluster é superior, quando a distância inter-cluster é maximizada e a distância intra-cluster é minimizada\n",
        "\n",
        "* Às vezes, o número de clusters é definido por requisitos de negócios ou a motivação para a análise. \n",
        "\n",
        "* Muito provavelmente, você terá um conhecimento a priori sobre os verdadeiros agrupamentos e você pode aplicar essa informação para escolher o número de clusters. (Ex: cliente bom/cliente médio/ cliente ruim   etc..."
      ]
    },
    {
      "attachments": {},
      "cell_type": "markdown",
      "metadata": {
        "id": "Qz6o1ppabq1P"
      },
      "source": [
        "### Curva de Elbow"
      ]
    },
    {
      "attachments": {},
      "cell_type": "markdown",
      "metadata": {},
      "source": [
        "> O que é:\n",
        "\n",
        "- A curva de Elbow (cotovelo) é um gráfico utilizado para determinar o número ideal de clusters em uma análise de agrupamento (clustering). O objetivo é identificar o ponto de inflexão na curva, conhecido como \"cotovelo\", que indica o número ideal de clusters para o conjunto de dados."
      ]
    },
    {
      "attachments": {},
      "cell_type": "markdown",
      "metadata": {},
      "source": [
        "> INSIGHT:\n",
        "\n",
        "- Quanto mais variância você consegue explicar, melhor é conhecimento dos dados e vice-versa\n",
        "\n"
      ]
    },
    {
      "cell_type": "code",
      "execution_count": 23,
      "metadata": {
        "colab": {
          "base_uri": "https://localhost:8080/",
          "height": 312
        },
        "id": "gH_-nEPsVpKV",
        "outputId": "9954d747-40c4-4aad-af3f-34c4fb429b98"
      },
      "outputs": [],
      "source": [
        "# Ajustando o centróide dos clusters para cada modelo\n",
        "centroids = [X.cluster_centers_ for X in k_means_var]"
      ]
    },
    {
      "attachments": {},
      "cell_type": "markdown",
      "metadata": {},
      "source": [
        "> Após a execução do algoritmo K-means, os centros dos clusters encontrados são armazenados no atributo \"cluster_centers_\""
      ]
    },
    {
      "cell_type": "code",
      "execution_count": 24,
      "metadata": {},
      "outputs": [],
      "source": [
        "# Calculando a distância euclidiana de cada ponto de dado para o centróide\n",
        "k_euclid = [cdist(pca, cent, 'euclidean') for cent in centroids] \n",
        "dist = [np.min(ke, axis = 1) for ke in k_euclid] \n",
        "# np.min[] retorna o valor mínimo de cada linda de ke"
      ]
    },
    {
      "attachments": {},
      "cell_type": "markdown",
      "metadata": {},
      "source": [
        "> 'cdist' é uma função do SciPy usada para calcular a distância entre pontos em dois conjuntos de dados"
      ]
    },
    {
      "cell_type": "code",
      "execution_count": 26,
      "metadata": {},
      "outputs": [],
      "source": [
        "# Soma dos quadrados das distâncias dentro do cluster\n",
        "soma_quadrados_intra_cluster = [sum(d**2) for d in dist]"
      ]
    },
    {
      "attachments": {},
      "cell_type": "markdown",
      "metadata": {},
      "source": [
        "> Essa métrica é utilizada para avaliar o quão compactos estão os pontos dentro de cada cluster em um algoritmo de agrupamento"
      ]
    },
    {
      "cell_type": "code",
      "execution_count": 27,
      "metadata": {},
      "outputs": [],
      "source": [
        "# Soma total dos quadrados\n",
        "soma_total = sum(pdist(pca)**2)/pca.shape[0]"
      ]
    },
    {
      "cell_type": "code",
      "execution_count": 29,
      "metadata": {},
      "outputs": [],
      "source": [
        "# Soma dos quadrados entre clusters\n",
        "soma_quadrados_inter_cluster = soma_total - soma_quadrados_intra_cluster"
      ]
    },
    {
      "cell_type": "code",
      "execution_count": 30,
      "metadata": {},
      "outputs": [
        {
          "data": {
            "text/plain": [
              "Text(0.5, 1.0, 'Variância Explicada x Cada Valor de K')"
            ]
          },
          "execution_count": 30,
          "metadata": {},
          "output_type": "execute_result"
        },
        {
          "data": {
            "image/png": "[encoded data removed]",
            "text/plain": [
              "<Figure size 640x480 with 1 Axes>"
            ]
          },
          "metadata": {},
          "output_type": "display_data"
        }
      ],
      "source": [
        "# Curva de Elbow\n",
        "fig = plt.figure()\n",
        "ax = fig.add_subplot(111)\n",
        "ax.plot(k_range, soma_quadrados_inter_cluster/soma_total * 100, 'b*-')\n",
        "ax.set_ylim((0,100))\n",
        "plt.grid(True)\n",
        "plt.xlabel('N° de Clusters')\n",
        "plt.ylabel('% de Variância Explicada')\n",
        "plt.title('Variância Explicada x Cada Valor de K')"
      ]
    },
    {
      "attachments": {},
      "cell_type": "markdown",
      "metadata": {},
      "source": [
        ">INSGHT: \n",
        "\n",
        "- A curva de Elbow nos mostrou que um número de clusters maior do que 8 é o ideal "
      ]
    },
    {
      "attachments": {},
      "cell_type": "markdown",
      "metadata": {
        "id": "65cmQGZ5b8Z2"
      },
      "source": [
        "Escolhendo um Valor de K inicial **> ou = 8** para avaliação da Máquina Preditiva"
      ]
    },
    {
      "cell_type": "code",
      "execution_count": 31,
      "metadata": {
        "id": "JeEEtVGLVpKV"
      },
      "outputs": [
        {
          "data": {
            "text/plain": [
              "KMeans()"
            ]
          },
          "execution_count": 31,
          "metadata": {},
          "output_type": "execute_result"
        }
      ],
      "source": [
        "# Criando um modelo com K = 8 clusters\n",
        "modelo_v1 = KMeans(n_clusters = 8)\n",
        "modelo_v1.fit(pca)"
      ]
    },
    {
      "attachments": {},
      "cell_type": "markdown",
      "metadata": {
        "id": "l_NQMaLKxKSS"
      },
      "source": [
        "## 5 Avaliação da Máquina Preditiva"
      ]
    },
    {
      "attachments": {},
      "cell_type": "markdown",
      "metadata": {
        "id": "BPld4YyKez8T"
      },
      "source": [
        "#### 5.1 Avaliando a Máquina Preditiva com k=8"
      ]
    },
    {
      "cell_type": "code",
      "execution_count": 33,
      "metadata": {
        "id": "rUs3e0OIVpKV"
      },
      "outputs": [],
      "source": [
        "# Nessas linhas, estão sendo calculados os valores mínimos e máximos para os eixos x e y do gráfico\n",
        "# E assim definir os limites do gráfico para a área que será plotada\n",
        "x_min, x_max = pca[:, 0].min() - 5, pca[:, 0].max() - 1\n",
        "y_min, y_max = pca[:, 1].min() + 1, pca[:, 1].max() + 5"
      ]
    },
    {
      "cell_type": "code",
      "execution_count": 34,
      "metadata": {},
      "outputs": [],
      "source": [
        "# Aqui, está sendo criada uma grade retangular para representar os pontos do gráfico com meshgrid (matriz bidimensional)\n",
        "xx, yy = np.meshgrid(np.arange(x_min, x_max, .02), np.arange(y_min, y_max, .02)) #  sequência de valores, com um passo de 0.02, que serão usados para preencher a grade"
      ]
    },
    {
      "cell_type": "code",
      "execution_count": 35,
      "metadata": {},
      "outputs": [],
      "source": [
        "# Aqui fazemos as previsões para cada ponto da grade\n",
        "# Os valores dos pontos da grade são \"achatados\" usando a função ravel() e concatenados ao longo do segundo eixo usando np.c_\n",
        "# Em seguida, as previsões são obtidas chamando o método predict() do modelo modelo_v1\n",
        "Z = modelo_v1.predict(np.c_[xx.ravel(), yy.ravel()])"
      ]
    },
    {
      "cell_type": "code",
      "execution_count": 37,
      "metadata": {},
      "outputs": [],
      "source": [
        "# Aqui, o resultado das previsões é ajustado para a forma da grade original\n",
        "# O objetivo é garantir que a forma de Z corresponda à forma de xx\n",
        "Z = Z.reshape(xx.shape)"
      ]
    },
    {
      "cell_type": "code",
      "execution_count": 38,
      "metadata": {
        "id": "Bsbxb1cPVpKV"
      },
      "outputs": [
        {
          "data": {
            "text/plain": [
              "<matplotlib.image.AxesImage at 0x1ce88ce9c10>"
            ]
          },
          "execution_count": 38,
          "metadata": {},
          "output_type": "execute_result"
        },
        {
          "data": {
            "image/png": "[encoded data removed]",
            "text/plain": [
              "<Figure size 640x480 with 1 Axes>"
            ]
          },
          "metadata": {},
          "output_type": "display_data"
        }
      ],
      "source": [
        "# Plot das áreas dos clusters usando um mashgrid para melhor visualizar os clusters\n",
        "plt.figure(1)\n",
        "plt.clf()\n",
        "plt.imshow(Z, \n",
        "           interpolation = 'nearest',\n",
        "           extent = (xx.min(), xx.max(), yy.min(), yy.max()),\n",
        "           cmap = plt.cm.Paired,\n",
        "           aspect = 'auto', \n",
        "           origin = 'lower')"
      ]
    },
    {
      "cell_type": "code",
      "execution_count": 39,
      "metadata": {
        "colab": {
          "base_uri": "https://localhost:8080/"
        },
        "id": "kb_WNfIUVpKV",
        "outputId": "0eb0dc8c-7eab-413c-d589-ee07bf11568d"
      },
      "outputs": [
        {
          "data": {
            "text/plain": [
              "0.6217814700453993"
            ]
          },
          "execution_count": 39,
          "metadata": {},
          "output_type": "execute_result"
        }
      ],
      "source": [
        "# Silhouette Score\n",
        "# Calcula o coeficiente de silhueta de um modelo de agrupamento\n",
        "labels = modelo_v1.labels_\n",
        "silhouette_score(pca, labels, metric = 'euclidean')"
      ]
    },
    {
      "attachments": {},
      "cell_type": "markdown",
      "metadata": {},
      "source": [
        "> SOBRE O COEFICIENTE DE SILHUETA\n",
        "\n",
        "- A função silhouette_score calcula o coeficiente de silhueta, uma medida de qualidade de agrupamento que avalia o quão bem os pontos estão agrupados. O coeficiente de silhueta varia de -1 a 1, em que valores mais próximos de 1 indicam que as amostras estão bem separadas em relação aos clusters, valores próximos de 0 indicam sobreposição entre clusters e valores próximos de -1 indicam que as amostras foram atribuídas aos clusters errados."
      ]
    },
    {
      "attachments": {},
      "cell_type": "markdown",
      "metadata": {
        "id": "8e4CgAlXd-P_"
      },
      "source": [
        "#### 5.2 Avaliando a Máquina Preditiva com K=9"
      ]
    },
    {
      "cell_type": "code",
      "execution_count": 40,
      "metadata": {
        "colab": {
          "base_uri": "https://localhost:8080/"
        },
        "id": "uxoqyqopd7Ad",
        "outputId": "827dea71-7290-4bf5-a6de-1fbe38223979"
      },
      "outputs": [
        {
          "data": {
            "text/plain": [
              "KMeans(n_clusters=9)"
            ]
          },
          "execution_count": 40,
          "metadata": {},
          "output_type": "execute_result"
        }
      ],
      "source": [
        "# Criando um modelo com K = 9\n",
        "modelo_v2 = KMeans(n_clusters = 9)\n",
        "modelo_v2.fit(pca)"
      ]
    },
    {
      "cell_type": "code",
      "execution_count": 41,
      "metadata": {
        "colab": {
          "base_uri": "https://localhost:8080/"
        },
        "id": "a6h0CmEEd_Yj",
        "outputId": "696cd983-addc-410c-f9ec-cabb538b473b"
      },
      "outputs": [
        {
          "data": {
            "text/plain": [
              "0.6473009742412332"
            ]
          },
          "execution_count": 41,
          "metadata": {},
          "output_type": "execute_result"
        }
      ],
      "source": [
        "# Silhouette Score\n",
        "labels = modelo_v2.labels_\n",
        "silhouette_score(pca, labels, metric = 'euclidean')"
      ]
    },
    {
      "attachments": {},
      "cell_type": "markdown",
      "metadata": {
        "id": "8ck-sZGidQjQ"
      },
      "source": [
        "#### 5.3 Avaliando a Máquina Preditiva com K=10"
      ]
    },
    {
      "cell_type": "code",
      "execution_count": 43,
      "metadata": {
        "id": "LoY6_BGUVpKV"
      },
      "outputs": [
        {
          "data": {
            "text/plain": [
              "KMeans(n_clusters=10)"
            ]
          },
          "execution_count": 43,
          "metadata": {},
          "output_type": "execute_result"
        }
      ],
      "source": [
        "# Criando um modelo com K = 10\n",
        "modelo_v2 = KMeans(n_clusters = 10)\n",
        "modelo_v2.fit(pca)"
      ]
    },
    {
      "cell_type": "code",
      "execution_count": 44,
      "metadata": {
        "colab": {
          "base_uri": "https://localhost:8080/"
        },
        "id": "bmFYvQLwVpKV",
        "outputId": "9974cc1c-13ba-42e5-ef3a-0e3f9b66518b"
      },
      "outputs": [
        {
          "data": {
            "text/plain": [
              "0.6589774638483199"
            ]
          },
          "execution_count": 44,
          "metadata": {},
          "output_type": "execute_result"
        }
      ],
      "source": [
        "# Silhouette Score\n",
        "labels = modelo_v2.labels_\n",
        "silhouette_score(pca, labels, metric = 'euclidean')"
      ]
    },
    {
      "attachments": {},
      "cell_type": "markdown",
      "metadata": {
        "id": "8WBOZU-BdZxH"
      },
      "source": [
        "#### 5.4 Avaliando a Máquina Preditiva com K=11"
      ]
    },
    {
      "cell_type": "code",
      "execution_count": 45,
      "metadata": {
        "colab": {
          "base_uri": "https://localhost:8080/"
        },
        "id": "lUP-V3Q0372R",
        "outputId": "cb6a02b2-b466-4a5a-ee03-debae32aa171"
      },
      "outputs": [
        {
          "data": {
            "text/plain": [
              "KMeans(n_clusters=11)"
            ]
          },
          "execution_count": 45,
          "metadata": {},
          "output_type": "execute_result"
        }
      ],
      "source": [
        "# Criando um modelo com K = 11\n",
        "modelo_v3 = KMeans(n_clusters = 11)\n",
        "modelo_v3.fit(pca)"
      ]
    },
    {
      "cell_type": "code",
      "execution_count": 46,
      "metadata": {
        "colab": {
          "base_uri": "https://localhost:8080/"
        },
        "id": "OH3iCrNa372U",
        "outputId": "f228b712-d78b-44ab-8e7c-3697a43702ef"
      },
      "outputs": [
        {
          "data": {
            "text/plain": [
              "0.6158900205130803"
            ]
          },
          "execution_count": 46,
          "metadata": {},
          "output_type": "execute_result"
        }
      ],
      "source": [
        "# Silhouette Score\n",
        "labels = modelo_v3.labels_\n",
        "silhouette_score(pca, labels, metric = 'euclidean')"
      ]
    },
    {
      "attachments": {},
      "cell_type": "markdown",
      "metadata": {
        "id": "c38JHdIQVpKW"
      },
      "source": [
        "## 6 Construindo a Máquina Preditiva com o uso da Marcação dos Clusters\n",
        "\n"
      ]
    },
    {
      "attachments": {},
      "cell_type": "markdown",
      "metadata": {},
      "source": [
        "> Aqui mostraremos o cluster que cada cliente pertence"
      ]
    },
    {
      "cell_type": "code",
      "execution_count": 51,
      "metadata": {
        "id": "0xTPL5HkVpKW"
      },
      "outputs": [],
      "source": [
        "# Criando uma lista com nomes das colunas\n",
        "names = ['Global_active_power', 'Global_reactive_power', 'Voltage', 'Global_intensity', 'Sub_metering_1', 'Sub_metering_2', 'Sub_metering_3']"
      ]
    },
    {
      "cell_type": "code",
      "execution_count": 53,
      "metadata": {
        "id": "eEO82xMZVpKW"
      },
      "outputs": [],
      "source": [
        "# Incluindo o n° do cluster na base de clientes\n",
        "cluster_map = pd.DataFrame(dataset, columns = names)\n",
        "cluster_map['Global_active_power'] = pd.to_numeric(cluster_map['Global_active_power']) # transformando os 'objects' em 'numeric'\n",
        "cluster_map['cluster'] = modelo_v2.labels_ # criamos uma colunas com o target"
      ]
    },
    {
      "cell_type": "code",
      "execution_count": 54,
      "metadata": {
        "id": "UllmsyGUVpKW"
      },
      "outputs": [
        {
          "data": {
            "text/html": [
              "<div>\n",
              "<style scoped>\n",
              "    .dataframe tbody tr th:only-of-type {\n",
              "        vertical-align: middle;\n",
              "    }\n",
              "\n",
              "    .dataframe tbody tr th {\n",
              "        vertical-align: top;\n",
              "    }\n",
              "\n",
              "    .dataframe thead th {\n",
              "        text-align: right;\n",
              "    }\n",
              "</style>\n",
              "<table border=\"1\" class=\"dataframe\">\n",
              "  <thead>\n",
              "    <tr style=\"text-align: right;\">\n",
              "      <th></th>\n",
              "      <th>Global_active_power</th>\n",
              "      <th>Global_reactive_power</th>\n",
              "      <th>Voltage</th>\n",
              "      <th>Global_intensity</th>\n",
              "      <th>Sub_metering_1</th>\n",
              "      <th>Sub_metering_2</th>\n",
              "      <th>Sub_metering_3</th>\n",
              "      <th>cluster</th>\n",
              "    </tr>\n",
              "  </thead>\n",
              "  <tbody>\n",
              "    <tr>\n",
              "      <th>0</th>\n",
              "      <td>0.900</td>\n",
              "      <td>0.000</td>\n",
              "      <td>238.440</td>\n",
              "      <td>3.800</td>\n",
              "      <td>1.000</td>\n",
              "      <td>0.000</td>\n",
              "      <td>1.0</td>\n",
              "      <td>1</td>\n",
              "    </tr>\n",
              "    <tr>\n",
              "      <th>1</th>\n",
              "      <td>0.786</td>\n",
              "      <td>0.086</td>\n",
              "      <td>246.050</td>\n",
              "      <td>3.200</td>\n",
              "      <td>0.000</td>\n",
              "      <td>0.000</td>\n",
              "      <td>1.0</td>\n",
              "      <td>5</td>\n",
              "    </tr>\n",
              "    <tr>\n",
              "      <th>2</th>\n",
              "      <td>0.424</td>\n",
              "      <td>0.234</td>\n",
              "      <td>243.850</td>\n",
              "      <td>2.000</td>\n",
              "      <td>0.000</td>\n",
              "      <td>0.000</td>\n",
              "      <td>0.0</td>\n",
              "      <td>5</td>\n",
              "    </tr>\n",
              "    <tr>\n",
              "      <th>3</th>\n",
              "      <td>0.458</td>\n",
              "      <td>0.116</td>\n",
              "      <td>241.210</td>\n",
              "      <td>2.000</td>\n",
              "      <td>0.000</td>\n",
              "      <td>4.000</td>\n",
              "      <td>1.0</td>\n",
              "      <td>1</td>\n",
              "    </tr>\n",
              "    <tr>\n",
              "      <th>4</th>\n",
              "      <td>0.416</td>\n",
              "      <td>0.210</td>\n",
              "      <td>242.230</td>\n",
              "      <td>2.000</td>\n",
              "      <td>0.000</td>\n",
              "      <td>0.000</td>\n",
              "      <td>0.0</td>\n",
              "      <td>5</td>\n",
              "    </tr>\n",
              "    <tr>\n",
              "      <th>...</th>\n",
              "      <td>...</td>\n",
              "      <td>...</td>\n",
              "      <td>...</td>\n",
              "      <td>...</td>\n",
              "      <td>...</td>\n",
              "      <td>...</td>\n",
              "      <td>...</td>\n",
              "      <td>...</td>\n",
              "    </tr>\n",
              "    <tr>\n",
              "      <th>20487</th>\n",
              "      <td>0.392</td>\n",
              "      <td>0.182</td>\n",
              "      <td>240.360</td>\n",
              "      <td>1.800</td>\n",
              "      <td>0.000</td>\n",
              "      <td>1.000</td>\n",
              "      <td>0.0</td>\n",
              "      <td>5</td>\n",
              "    </tr>\n",
              "    <tr>\n",
              "      <th>20488</th>\n",
              "      <td>1.562</td>\n",
              "      <td>0.204</td>\n",
              "      <td>242.340</td>\n",
              "      <td>6.400</td>\n",
              "      <td>1.000</td>\n",
              "      <td>0.000</td>\n",
              "      <td>0.0</td>\n",
              "      <td>1</td>\n",
              "    </tr>\n",
              "    <tr>\n",
              "      <th>20489</th>\n",
              "      <td>1.590</td>\n",
              "      <td>0.330</td>\n",
              "      <td>237.450</td>\n",
              "      <td>6.800</td>\n",
              "      <td>0.000</td>\n",
              "      <td>1.000</td>\n",
              "      <td>17.0</td>\n",
              "      <td>2</td>\n",
              "    </tr>\n",
              "    <tr>\n",
              "      <th>20490</th>\n",
              "      <td>1.312</td>\n",
              "      <td>0.078</td>\n",
              "      <td>242.280</td>\n",
              "      <td>5.400</td>\n",
              "      <td>0.000</td>\n",
              "      <td>0.000</td>\n",
              "      <td>19.0</td>\n",
              "      <td>2</td>\n",
              "    </tr>\n",
              "    <tr>\n",
              "      <th>20491</th>\n",
              "      <td>0.266</td>\n",
              "      <td>0.000</td>\n",
              "      <td>243.310</td>\n",
              "      <td>1.000</td>\n",
              "      <td>0.000</td>\n",
              "      <td>0.000</td>\n",
              "      <td>0.0</td>\n",
              "      <td>5</td>\n",
              "    </tr>\n",
              "  </tbody>\n",
              "</table>\n",
              "<p>20492 rows × 8 columns</p>\n",
              "</div>"
            ],
            "text/plain": [
              "       Global_active_power Global_reactive_power  Voltage Global_intensity  \\\n",
              "0                    0.900                 0.000  238.440            3.800   \n",
              "1                    0.786                 0.086  246.050            3.200   \n",
              "2                    0.424                 0.234  243.850            2.000   \n",
              "3                    0.458                 0.116  241.210            2.000   \n",
              "4                    0.416                 0.210  242.230            2.000   \n",
              "...                    ...                   ...      ...              ...   \n",
              "20487                0.392                 0.182  240.360            1.800   \n",
              "20488                1.562                 0.204  242.340            6.400   \n",
              "20489                1.590                 0.330  237.450            6.800   \n",
              "20490                1.312                 0.078  242.280            5.400   \n",
              "20491                0.266                 0.000  243.310            1.000   \n",
              "\n",
              "      Sub_metering_1 Sub_metering_2 Sub_metering_3  cluster  \n",
              "0              1.000          0.000            1.0        1  \n",
              "1              0.000          0.000            1.0        5  \n",
              "2              0.000          0.000            0.0        5  \n",
              "3              0.000          4.000            1.0        1  \n",
              "4              0.000          0.000            0.0        5  \n",
              "...              ...            ...            ...      ...  \n",
              "20487          0.000          1.000            0.0        5  \n",
              "20488          1.000          0.000            0.0        1  \n",
              "20489          0.000          1.000           17.0        2  \n",
              "20490          0.000          0.000           19.0        2  \n",
              "20491          0.000          0.000            0.0        5  \n",
              "\n",
              "[20492 rows x 8 columns]"
            ]
          },
          "execution_count": 54,
          "metadata": {},
          "output_type": "execute_result"
        }
      ],
      "source": [
        "cluster_map"
      ]
    },
    {
      "cell_type": "code",
      "execution_count": 57,
      "metadata": {
        "colab": {
          "base_uri": "https://localhost:8080/"
        },
        "id": "EAVaO81cVpKW",
        "outputId": "94b8251f-f684-49be-8f0f-047a20d0b5cd"
      },
      "outputs": [
        {
          "data": {
            "text/plain": [
              "cluster\n",
              "0    3.238219\n",
              "1    1.467619\n",
              "2    1.813850\n",
              "3    3.215258\n",
              "4    4.289511\n",
              "5    0.358008\n",
              "6    5.956625\n",
              "7    1.124485\n",
              "8    2.348053\n",
              "9    2.147083\n",
              "Name: Global_active_power, dtype: float64"
            ]
          },
          "execution_count": 57,
          "metadata": {},
          "output_type": "execute_result"
        }
      ],
      "source": [
        "# Calculando a média de consumo de energia por cluster\n",
        "cluster_map.groupby('cluster')['Global_active_power'].mean()"
      ]
    },
    {
      "attachments": {},
      "cell_type": "markdown",
      "metadata": {
        "id": "SLF6vuqmxTUL"
      },
      "source": [
        "# Fim"
      ]
    }
  ],
  "metadata": {
    "accelerator": "GPU",
    "colab": {
      "collapsed_sections": [
        "IAcjJSjvw_nO",
        "aLZY1kNAyKdr",
        "BIz-8b_wxFB-",
        "-7hp1ccIxHxW",
        "BPld4YyKez8T",
        "8e4CgAlXd-P_",
        "8ck-sZGidQjQ",
        "8WBOZU-BdZxH"
      ],
      "name": "Kmeans - Agrupamentos de Clientes.ipynb",
      "provenance": []
    },
    "kernelspec": {
      "display_name": "Python 3",
      "name": "python3"
    },
    "language_info": {
      "codemirror_mode": {
        "name": "ipython",
        "version": 3
      },
      "file_extension": ".py",
      "mimetype": "text/x-python",
      "name": "python",
      "nbconvert_exporter": "python",
      "pygments_lexer": "ipython3",
      "version": "3.9.13"
    }
  },
  "nbformat": 4,
  "nbformat_minor": 0
}
